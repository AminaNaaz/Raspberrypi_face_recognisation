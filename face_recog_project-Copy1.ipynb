{
 "cells": [
  {
   "cell_type": "code",
   "execution_count": null,
   "metadata": {},
   "outputs": [
    {
     "data": {
      "text/plain": [
       "<Figure size 1200x300 with 4 Axes>"
      ]
     },
     "metadata": {},
     "output_type": "display_data"
    },
    {
     "data": {
      "text/plain": [
       "<Figure size 1200x300 with 4 Axes>"
      ]
     },
     "metadata": {},
     "output_type": "display_data"
    },
    {
     "data": {
      "text/plain": [
       "<Figure size 1200x300 with 4 Axes>"
      ]
     },
     "metadata": {},
     "output_type": "display_data"
    },
    {
     "data": {
      "text/plain": [
       "<Figure size 1200x300 with 4 Axes>"
      ]
     },
     "metadata": {},
     "output_type": "display_data"
    },
    {
     "data": {
      "text/plain": [
       "<Figure size 1200x300 with 4 Axes>"
      ]
     },
     "metadata": {},
     "output_type": "display_data"
    },
    {
     "data": {
      "text/plain": [
       "<Figure size 1200x300 with 4 Axes>"
      ]
     },
     "metadata": {},
     "output_type": "display_data"
    },
    {
     "data": {
      "text/plain": [
       "<Figure size 1200x300 with 4 Axes>"
      ]
     },
     "metadata": {},
     "output_type": "display_data"
    },
    {
     "data": {
      "text/plain": [
       "<Figure size 1200x300 with 4 Axes>"
      ]
     },
     "metadata": {},
     "output_type": "display_data"
    },
    {
     "data": {
      "text/plain": [
       "<Figure size 1200x300 with 4 Axes>"
      ]
     },
     "metadata": {},
     "output_type": "display_data"
    },
    {
     "data": {
      "text/plain": [
       "<Figure size 1200x300 with 4 Axes>"
      ]
     },
     "metadata": {},
     "output_type": "display_data"
    },
    {
     "data": {
      "text/plain": [
       "<Figure size 1200x300 with 4 Axes>"
      ]
     },
     "metadata": {},
     "output_type": "display_data"
    },
    {
     "data": {
      "text/plain": [
       "<Figure size 1200x300 with 4 Axes>"
      ]
     },
     "metadata": {},
     "output_type": "display_data"
    },
    {
     "data": {
      "text/plain": [
       "<Figure size 1200x300 with 4 Axes>"
      ]
     },
     "metadata": {},
     "output_type": "display_data"
    },
    {
     "data": {
      "text/plain": [
       "<Figure size 1200x300 with 4 Axes>"
      ]
     },
     "metadata": {},
     "output_type": "display_data"
    },
    {
     "data": {
      "text/plain": [
       "<Figure size 1200x300 with 4 Axes>"
      ]
     },
     "metadata": {},
     "output_type": "display_data"
    },
    {
     "data": {
      "text/plain": [
       "<Figure size 1200x300 with 4 Axes>"
      ]
     },
     "metadata": {},
     "output_type": "display_data"
    },
    {
     "data": {
      "text/plain": [
       "<Figure size 1200x300 with 4 Axes>"
      ]
     },
     "metadata": {},
     "output_type": "display_data"
    },
    {
     "data": {
      "text/plain": [
       "<Figure size 1200x300 with 4 Axes>"
      ]
     },
     "metadata": {},
     "output_type": "display_data"
    },
    {
     "data": {
      "text/plain": [
       "<Figure size 1200x300 with 4 Axes>"
      ]
     },
     "metadata": {},
     "output_type": "display_data"
    },
    {
     "data": {
      "text/plain": [
       "<Figure size 1200x300 with 4 Axes>"
      ]
     },
     "metadata": {},
     "output_type": "display_data"
    },
    {
     "data": {
      "text/plain": [
       "<Figure size 1200x300 with 4 Axes>"
      ]
     },
     "metadata": {},
     "output_type": "display_data"
    },
    {
     "data": {
      "text/plain": [
       "<Figure size 1200x300 with 4 Axes>"
      ]
     },
     "metadata": {},
     "output_type": "display_data"
    },
    {
     "data": {
      "text/plain": [
       "<Figure size 1200x300 with 4 Axes>"
      ]
     },
     "metadata": {},
     "output_type": "display_data"
    },
    {
     "data": {
      "text/plain": [
       "<Figure size 1200x300 with 4 Axes>"
      ]
     },
     "metadata": {},
     "output_type": "display_data"
    },
    {
     "data": {
      "text/plain": [
       "<Figure size 1200x300 with 4 Axes>"
      ]
     },
     "metadata": {},
     "output_type": "display_data"
    },
    {
     "data": {
      "text/plain": [
       "<Figure size 1200x300 with 4 Axes>"
      ]
     },
     "metadata": {},
     "output_type": "display_data"
    },
    {
     "data": {
      "text/plain": [
       "<Figure size 1200x300 with 4 Axes>"
      ]
     },
     "metadata": {},
     "output_type": "display_data"
    },
    {
     "data": {
      "text/plain": [
       "<Figure size 1200x300 with 4 Axes>"
      ]
     },
     "metadata": {},
     "output_type": "display_data"
    },
    {
     "data": {
      "text/plain": [
       "<Figure size 1200x300 with 4 Axes>"
      ]
     },
     "metadata": {},
     "output_type": "display_data"
    },
    {
     "data": {
      "text/plain": [
       "<Figure size 1200x300 with 4 Axes>"
      ]
     },
     "metadata": {},
     "output_type": "display_data"
    },
    {
     "data": {
      "text/plain": [
       "<Figure size 1200x300 with 4 Axes>"
      ]
     },
     "metadata": {},
     "output_type": "display_data"
    },
    {
     "data": {
      "text/plain": [
       "<Figure size 1200x300 with 4 Axes>"
      ]
     },
     "metadata": {},
     "output_type": "display_data"
    },
    {
     "data": {
      "text/plain": [
       "<Figure size 1200x300 with 4 Axes>"
      ]
     },
     "metadata": {},
     "output_type": "display_data"
    },
    {
     "name": "stdout",
     "output_type": "stream",
     "text": [
      "Match found\n"
     ]
    }
   ],
   "source": [
    "import cv2\n",
    "import numpy as np\n",
    "import math\n",
    "import matplotlib.pyplot as plt\n",
    "import os\n",
    "import pywt\n",
    "import pywt.data\n",
    "from glob import glob\n",
    "N=list(range(40))\n",
    "def extract(image):\n",
    "                 resized_image = cv2.resize(image,(255, 255))\n",
    "                 cv2.imshow(\"resized_image\",resized_image)\n",
    "                 blur = cv2.GaussianBlur(image,(5,5),0)     # gaussian blur#\n",
    "                 cv2.imshow(\"Filtered_image\",blur)\n",
    "                 dwt_b(image)\n",
    "                 dwt_g(image)\n",
    "                 dwt_r(image)\n",
    "                 coeffs = pywt.dwt2(blur, 'haar')       #Applying to dwt#\n",
    "                 cA, (cH, cV, cD) = coeffs              # LL,LH,HL,HH extracting only LL\n",
    "                 return cA\n",
    "\n",
    "def dwt_b(image):\n",
    "# Load image\n",
    "\n",
    "    blur = cv2.GaussianBlur(image,(5,5),0) \n",
    "    cv2.imshow('B-Gaussian',image)\n",
    "    b = blur.copy()\n",
    "\n",
    "# set green and red channels to 0\n",
    "    b[:, :, 1] = 0\n",
    "    b[:, :, 2] = 0\n",
    "    cv2.imshow('B-RGB', b)\n",
    "    image1 = cv2.cvtColor(image, cv2.COLOR_BGR2GRAY)\n",
    "\n",
    "    image1 = np.float32(image1)\n",
    "    image1 /= 255\n",
    "\n",
    "\n",
    "# Wavelet transform of image, and plot approximation and details\n",
    "    titles = ['LL', ' LH',\n",
    "          'HL', 'HH']\n",
    "    coeffs2 = pywt.dwt2(image1, 'bior1.3')\n",
    "    LL, (LH, HL, HH) = coeffs2\n",
    "    fig = plt.figure(figsize=(12, 3))\n",
    "    for i, a in enumerate([LL, LH, HL, HH]):\n",
    "        ax = fig.add_subplot(1, 4, i + 1)\n",
    "        ax.imshow(a, interpolation=\"nearest\", cmap=plt.cm.gray)\n",
    "        ax.set_title(titles[i], fontsize=10)\n",
    "        ax.set_xticks([])\n",
    "        ax.set_yticks([])\n",
    "\n",
    "    fig.tight_layout()\n",
    "    plt.show()\n",
    "\n",
    "\n",
    "\n",
    "def dwt_g(image):\n",
    "    blur = cv2.GaussianBlur(image,(5,5),0) \n",
    "    cv2.imshow('B-Gaussian',image)\n",
    "    g = blur.copy()\n",
    "\n",
    "# set green and red channels to 0\n",
    "    g[:, :, 0] = 0\n",
    "    g[:, :, 2] = 0\n",
    "    cv2.imshow('G-RGB', g)\n",
    "    image1 = cv2.cvtColor(image, cv2.COLOR_BGR2GRAY)\n",
    "\n",
    "    image1 = np.float32(image1)\n",
    "    image1 /= 255\n",
    "\n",
    "\n",
    "# Wavelet transform of image, and plot approximation and details\n",
    "    titles = ['LL', ' LH',\n",
    "          'HL', 'HH']\n",
    "    coeffs2 = pywt.dwt2(image1, 'bior1.3')\n",
    "    LL, (LH, HL, HH) = coeffs2\n",
    "    fig = plt.figure(figsize=(12, 3))\n",
    "    for i, a in enumerate([LL, LH, HL, HH]):\n",
    "        ax = fig.add_subplot(1, 4, i + 1)\n",
    "        ax.imshow(a, interpolation=\"nearest\", cmap=plt.cm.gray)\n",
    "        ax.set_title(titles[i], fontsize=10)\n",
    "        ax.set_xticks([])\n",
    "        ax.set_yticks([])\n",
    "\n",
    "    fig.tight_layout()\n",
    "    plt.show()\n",
    " \n",
    "\n",
    "\n",
    "def dwt_r(image):\n",
    "    blur = cv2.GaussianBlur(image,(5,5),0) \n",
    "    cv2.imshow('B-Gaussian',image)\n",
    "    r = blur.copy()\n",
    "\n",
    "# set green and red channels to 0\n",
    "    r[:, :, 0] = 0\n",
    "    r[:, :, 1] = 0\n",
    "    cv2.imshow('R-RGB', r)\n",
    "    image1 = cv2.cvtColor(image, cv2.COLOR_BGR2GRAY)\n",
    "\n",
    "    image1 = np.float32(image1)\n",
    "    image1 /= 255\n",
    "\n",
    "\n",
    "# Wavelet transform of image, and plot approximation and details\n",
    "    titles = ['LL', ' LH',\n",
    "          'HL', 'HH']\n",
    "    coeffs2 = pywt.dwt2(image1, 'bior1.3')\n",
    "    LL, (LH, HL, HH) = coeffs2\n",
    "    fig = plt.figure(figsize=(12, 3))\n",
    "    for i, a in enumerate([LL, LH, HL, HH]):\n",
    "        ax = fig.add_subplot(1, 4, i + 1)\n",
    "        ax.imshow(a, interpolation=\"nearest\", cmap=plt.cm.gray)\n",
    "        ax.set_title(titles[i], fontsize=10)\n",
    "        ax.set_xticks([])\n",
    "        ax.set_yticks([])\n",
    "\n",
    "    fig.tight_layout()\n",
    "    plt.show()\n",
    "\n",
    "\n",
    "\n",
    "image = cv2.imread('E:/New folder/project2/orl_faces/test1/test1.jpg',1)\n",
    "cv2.imshow('input image',image)\n",
    "\n",
    "im2=list(range(10))\n",
    "def load_images_from_folder(folder):  # function loading the program  from folder#\n",
    "    images = []\n",
    "    for filename in os.listdir(folder):   # opening the file from the folder#     \n",
    "        img = cv2.imread(os.path.join(folder,filename)) #reading the image from the folder and file#\n",
    "        if img is not None:\n",
    "            images.append(img)     #updating the images#\n",
    "    return images\n",
    "E=load_images_from_folder('E:/New folder/project2/orl_faces/test1')  #E= reading the folder#\n",
    "for n in range(10):  # n is variable#\n",
    "    im2[n]= extract(E[n]) # jumps to function extract takes only LL#\n",
    "img=cv2.imread('E:/New folder/project2/orl_faces/test1/test1.jpg')# reads the test images#\n",
    "tst = extract(img)  # jumps to the function extract and collects LA#\n",
    "\n",
    "def euc_dist( tst, db):    #finds euclidian distance between the two images#\n",
    "                       return np.sum((tst-db)**2)   # returns the sum value( x1-x2) square#\n",
    "k=0                    \n",
    "for r in range(10):\n",
    "       E4=euc_dist(im2[r],tst) # jumps t0 function euclidian#\n",
    "       N[k]=E4   # stores it in E4#\n",
    "       k+=1\n",
    "large1=max(N)    # large = maxm value of N#\n",
    "for u in range(10):\n",
    "        #E2=euc_dist(T1,database[r]\n",
    "        N[u]=N[u]/large1  # rounds of the value#\n",
    "if N[u]<=0.55:\n",
    "          print('Match found')  # Thresholding#\n",
    "elif N[u]>0.55:\n",
    "          print('Match not found')       \n",
    "cv2.waitKey(0)\n",
    "cv2.destroyAllWindows()\n",
    "\n",
    "cv2.waitKey(0)\n",
    "cv2.destroyAllWindows()\n"
   ]
  },
  {
   "cell_type": "code",
   "execution_count": null,
   "metadata": {},
   "outputs": [],
   "source": []
  }
 ],
 "metadata": {
  "kernelspec": {
   "display_name": "Python 3",
   "language": "python",
   "name": "python3"
  },
  "language_info": {
   "codemirror_mode": {
    "name": "ipython",
    "version": 3
   },
   "file_extension": ".py",
   "mimetype": "text/x-python",
   "name": "python",
   "nbconvert_exporter": "python",
   "pygments_lexer": "ipython3",
   "version": "3.7.4"
  }
 },
 "nbformat": 4,
 "nbformat_minor": 2
}
